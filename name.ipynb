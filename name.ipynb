{
 "cells": [
  {
   "cell_type": "code",
   "execution_count": null,
   "metadata": {},
   "outputs": [],
   "source": [
    "import mysql.connector\n",
    "from tkinter import*\n",
    "import tkinter as tk \n",
    "import tkinter.messagebox as tmsg\n",
    "root = Tk() \n",
    "root.geometry(\"500x500\")\n",
    "root.title(\"By Vipul\")\n",
    "root.iconbitmap(\"images.ico\")\n",
    "root.config(bg=\"light gray\")\n",
    "\n",
    "number=['1','2','3','4','5','6']\n",
    "var1=tk.IntVar(root)\n",
    "var2=tk.IntVar(root)\n",
    "var3=tk.IntVar(root)\n",
    "var4=tk.IntVar(root)\n",
    "var5=tk.IntVar(root)\n",
    "var6=tk.IntVar(root)\n",
    "new=[var1,var2,var3,var4,var5,var6]\n",
    "def check():\n",
    "    for i,j,k in zip(new,ab,number):       \n",
    "        if(i.get()==1):\n",
    "            connection=mysql.connector.connect(host=\"localhost\",user=\"root\",password=\"\",database=\"python_final_project\")\n",
    "            mycursor=connection.cursor()\n",
    "            mycursor.execute(\"INSERT INTO student VALUES (%s, %s,%s)\", (k, j,\"present\"))\n",
    "            connection.commit()\n",
    "        else:\n",
    "            connection=mysql.connector.connect(host=\"localhost\",user=\"root\",password=\"\",database=\"python_final_project\")\n",
    "            mycursor=connection.cursor()  \n",
    "            mycursor.execute(\"INSERT INTO student VALUES (%s,%s,%s)\", (k, j,\"absent\"))          \n",
    "            connection.commit()\n",
    "    tmsg.showinfo(\"attandance\",\"Saved Successfully\")\n",
    "Label(root,text=\"Click To Present Student\",justify=CENTER,padx=14,font=\"verdana  15 bold\").pack()\n",
    "ab=[\"CHAVDA MITESH DINESHBHAI\",\"DABHI HARPALBHAI RANJITBHAI\",\"GOR JEELKUMAR VIRENDRAKUMAR\",\"GUNDIGARA ADITYA ROHITBHAI\",\"JADAV VIPUL BATUKBHAI\",\"JAKASANIYA YASHKUMAR KANTILAL\"]\n",
    "for i,j in zip(ab,new):\n",
    "    Checkbutton(root, text =i, variable=j,onvalue = 1, offvalue = 0).pack()\n",
    "Button(root, text =\"save\",command=check).pack()\n",
    "root.mainloop()"
   ]
  }
 ],
 "metadata": {
  "kernelspec": {
   "display_name": "Python 3",
   "language": "python",
   "name": "python3"
  },
  "language_info": {
   "codemirror_mode": {
    "name": "ipython",
    "version": 3
   },
   "file_extension": ".py",
   "mimetype": "text/x-python",
   "name": "python",
   "nbconvert_exporter": "python",
   "pygments_lexer": "ipython3",
   "version": "3.11.2"
  },
  "orig_nbformat": 4
 },
 "nbformat": 4,
 "nbformat_minor": 2
}
