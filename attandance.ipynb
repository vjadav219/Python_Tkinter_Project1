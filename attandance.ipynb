{
 "cells": [
  {
   "cell_type": "code",
   "execution_count": 2,
   "metadata": {},
   "outputs": [
    {
     "name": "stdout",
     "output_type": "stream",
     "text": [
      "<mysql.connector.connection.MySQLConnection object at 0x000001CD8EF36310>\n",
      "connection succesfull\n"
     ]
    }
   ],
   "source": [
    "import mysql.connector\n",
    "connection=mysql.connector.connect(host=\"localhost\",user=\"root\",password=\"\",database=\"attandance\")\n",
    "print(connection)\n",
    "if(connection):\n",
    "    print(\"connection succesfull\")\n",
    "else:\n",
    "    print(\"connection failed\")\n",
    "\n",
    "mycursor=connection.cursor()\n",
    "#mycursor.execute(\"create database attandance\")\n",
    "#mycursor.execute(\"create table studentlist(name varchar(20),enrollent int(20))\")\n",
    "mycursor.execute('insert into studentlist values(\"vipul\" ,1); ')\n",
    "# for i in mycursor:\n",
    "#     print(i)\n",
    "\n",
    "# sql = \"INSERT INTO studentlist (name, enrollent) VALUES (%s, %s)\"\n",
    "# val = (\"harpal\", \"2\")\n",
    "# mycursor.execute(sql, val)\n",
    "connection.commit()"
   ]
  },
  {
   "cell_type": "code",
   "execution_count": 3,
   "metadata": {
    "notebookRunGroups": {
     "groupValue": ""
    }
   },
   "outputs": [
    {
     "name": "stdout",
     "output_type": "stream",
     "text": [
      "<mysql.connector.connection.MySQLConnection object at 0x000001CD8F74E150>\n",
      "connection succesfull\n",
      "('studentlist',)\n",
      "('studentlist1',)\n"
     ]
    }
   ],
   "source": [
    "import mysql.connector\n",
    "connection=mysql.connector.connect(host=\"localhost\",user=\"root\",password=\"\",database=\"attandance\")\n",
    "print(connection)\n",
    "if(connection):\n",
    "    print(\"connection succesfull\")\n",
    "else:\n",
    "    print(\"connection failed\")\n",
    "\n",
    "mycursor=connection.cursor()\n",
    "mycursor.execute('show tables')\n",
    "for i in mycursor:\n",
    "     print(i)\n",
    "connection.commit()"
   ]
  },
  {
   "cell_type": "code",
   "execution_count": 28,
   "metadata": {},
   "outputs": [
    {
     "name": "stdout",
     "output_type": "stream",
     "text": [
      "<mysql.connector.connection.MySQLConnection object at 0x0000020C27291C90>\n",
      "connection succesfull\n"
     ]
    }
   ],
   "source": [
    "import mysql.connector\n",
    "connection=mysql.connector.connect(host=\"localhost\",user=\"root\",password=\"\",database=\"attandance\")\n",
    "print(connection)\n",
    "if(connection):\n",
    "    print(\"connection succesfull\")\n",
    "else:\n",
    "    print(\"connection failed\")\n",
    "\n",
    "mycursor=connection.cursor()\n",
    "\n",
    "sql = \"INSERT INTO studentlist (name, enrollent) VALUES (%s, %s)\"\n",
    "val = [('mahesh',111),('mahesh',111),('mahesh',111),('mahesh',111)]\n",
    "mycursor.executemany(sql, val)\n",
    "connection.commit()"
   ]
  },
  {
   "cell_type": "code",
   "execution_count": 38,
   "metadata": {},
   "outputs": [
    {
     "name": "stdout",
     "output_type": "stream",
     "text": [
      "<mysql.connector.connection.MySQLConnection object at 0x0000020C285E8A50>\n",
      "connection succesfull\n"
     ]
    }
   ],
   "source": [
    "import mysql.connector\n",
    "connection=mysql.connector.connect(host=\"localhost\",user=\"root\",password=\"\",database=\"attandance\")\n",
    "print(connection)\n",
    "if(connection):\n",
    "    print(\"connection succesfull\")\n",
    "else:\n",
    "    print(\"connection failed\")\n",
    "\n",
    "mycursor=connection.cursor()\n",
    "\n",
    "# mycursor.execute(\"create table studentlist1(Name varchar(20),Enrollment int(20),Email_ID varchar(50),Mobile_Number int(10))\")\n",
    "\n",
    "# mycursor.execute(\"INSERT INTO studentlist1 VALUES ('ADITY',25,'vjadva520@rku.ac.in',9023978985)\")\n",
    "sql = \"INSERT INTO studentlist1 (Name, Enrollment ,Email_Id ,Mobile_Number) VALUES (%s, %s, %s, %s)\"\n",
    "val = [('mahesh',111,'vipuljadav542@gmail.com',9978477562),('mahesh',111,'hdabhi45@gmail.com',9099333418),('jeel',125,'gorjeel54@gmail.com',7046347490)]\n",
    "mycursor.executemany(sql, val)\n",
    "connection.commit()"
   ]
  },
  {
   "cell_type": "code",
   "execution_count": 2,
   "metadata": {},
   "outputs": [
    {
     "name": "stdout",
     "output_type": "stream",
     "text": [
      "<mysql.connector.connection.MySQLConnection object at 0x0000018772DF7210>\n",
      "connection succesfull\n",
      "('vipul', 31, 'vjadva219@rku.ac.in', 9023978985)\n",
      "('JEEL', 25, 'vjadva2120@rku.ac.in', 9023978985)\n",
      "('ADITY', 25, 'vjadva520@rku.ac.in', 9023978985)\n",
      "('mahesh', 111, 'vipuljadav542@gmail.com', 9978477562)\n",
      "('mahesh', 111, 'hdabhi45@gmail.com', 9099333418)\n",
      "('jeel', 125, 'gorjeel54@gmail.com', 7046347490)\n"
     ]
    }
   ],
   "source": [
    "import mysql.connector\n",
    "connection=mysql.connector.connect(host=\"localhost\",user=\"root\",password=\"\",database=\"attandance\")\n",
    "print(connection)\n",
    "if(connection):\n",
    "    print(\"connection succesfull\")\n",
    "else:\n",
    "    print(\"connection failed\")\n",
    "\n",
    "mycursor=connection.cursor()\n",
    "\n",
    "# mycursor.execute(\"create table studentlist1(Name varchar(20),Enrollment int(20),Email_ID varchar(50),Mobile_Number int(10))\")\n",
    "\n",
    "mycursor.execute(\"select * from studentlist1\")\n",
    "myresult=mycursor.fetchall()\n",
    "for row in myresult:\n",
    "    print(row)\n",
    "\n",
    "connection.commit()\n",
    "\n",
    "\n",
    "# crud operation\n",
    "#create gui and take database name and table name\n",
    "#"
   ]
  }
 ],
 "metadata": {
  "kernelspec": {
   "display_name": "Python 3",
   "language": "python",
   "name": "python3"
  },
  "language_info": {
   "codemirror_mode": {
    "name": "ipython",
    "version": 3
   },
   "file_extension": ".py",
   "mimetype": "text/x-python",
   "name": "python",
   "nbconvert_exporter": "python",
   "pygments_lexer": "ipython3",
   "version": "3.11.2"
  },
  "orig_nbformat": 4
 },
 "nbformat": 4,
 "nbformat_minor": 2
}
