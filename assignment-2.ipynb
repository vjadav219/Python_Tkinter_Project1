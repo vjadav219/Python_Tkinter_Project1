{
 "cells": [
  {
   "cell_type": "code",
   "execution_count": 7,
   "metadata": {},
   "outputs": [
    {
     "name": "stdout",
     "output_type": "stream",
     "text": [
      "name:       Jadav Vipul\n",
      "Enrollment: 21SOECE11031\n",
      "Class:      4CEA\n",
      "<mysql.connector.connection.MySQLConnection object at 0x000002BCAE927CD0>\n",
      "connection succesfull\n",
      "MySQL database version: ('10.4.27-MariaDB',)\n"
     ]
    }
   ],
   "source": [
    "# 1. Write a Python program to create a MySQL database and connect with the database and print the version of the MySQL database.\n",
    "print(\"name:       Jadav Vipul\")\n",
    "print(\"Enrollment: 21SOECE11031\")\n",
    "print(\"Class:      4CEA\")\n",
    "\n",
    "import mysql.connector\n",
    "connection=mysql.connector.connect(host=\"localhost\",user=\"root\",password=\"\")\n",
    "print(connection)\n",
    "if(connection):\n",
    "    print(\"connection succesfull\")\n",
    "else:\n",
    "    print(\"connection failed\")\n",
    "\n",
    "mycursor=connection.cursor()\n",
    "mycursor.execute(\"create database vipulpython3\")\n",
    "connection.commit()\n",
    "mycursor = connection.cursor()\n",
    "mycursor.execute(\"SELECT VERSION()\")\n",
    "data = mycursor.fetchone()\n",
    "print(\"MySQL database version:\", data)"
   ]
  },
  {
   "cell_type": "code",
   "execution_count": 9,
   "metadata": {},
   "outputs": [
    {
     "name": "stdout",
     "output_type": "stream",
     "text": [
      "name:       Jadav Vipul\n",
      "Enrollment: 21SOECE11031\n",
      "Class:      4CEA\n"
     ]
    }
   ],
   "source": [
    "# 2. Write a Python program to connect a database and create a MySQL table within the database.\n",
    "print(\"name:       Jadav Vipul\")\n",
    "print(\"Enrollment: 21SOECE11031\")\n",
    "print(\"Class:      4CEA\")\n",
    "import mysql.connector\n",
    "connection=mysql.connector.connect(host=\"localhost\",user=\"root\",password=\"\",database=\"vipulpython\")\n",
    "\n",
    "\n",
    "mycursor=connection.cursor()\n",
    "mycursor.execute(\"create table studentlist(name varchar(20),enrollent int(20))\")\n",
    "\n",
    "connection.commit()"
   ]
  },
  {
   "cell_type": "code",
   "execution_count": 10,
   "metadata": {},
   "outputs": [
    {
     "name": "stdout",
     "output_type": "stream",
     "text": [
      "name:       Jadav Vipul\n",
      "Enrollment: 21SOECE11031\n",
      "Class:      4CEA\n",
      "<mysql.connector.connection.MySQLConnection object at 0x000002BCAC6054D0>\n",
      "connection succesfull\n",
      "('studentlist',)\n",
      "('studentlist1',)\n"
     ]
    }
   ],
   "source": [
    "# 3. Write a Python program to list the tables of a given MySQL database file.\n",
    "print(\"name:       Jadav Vipul\")\n",
    "print(\"Enrollment: 21SOECE11031\")\n",
    "print(\"Class:      4CEA\")\n",
    "\n",
    "import mysql.connector\n",
    "connection=mysql.connector.connect(host=\"localhost\",user=\"root\",password=\"\",database=\"attandance\")\n",
    "print(connection)\n",
    "if(connection):\n",
    "    print(\"connection succesfull\")\n",
    "else:\n",
    "    print(\"connection failed\")\n",
    "\n",
    "mycursor=connection.cursor()\n",
    "mycursor.execute('show tables')\n",
    "for i in mycursor:\n",
    "     print(i)\n",
    "connection.commit()"
   ]
  },
  {
   "cell_type": "code",
   "execution_count": 12,
   "metadata": {},
   "outputs": [
    {
     "name": "stdout",
     "output_type": "stream",
     "text": [
      "name:       Jadav Vipul\n",
      "Enrollment: 21SOECE11031\n",
      "Class:      4CEA\n",
      "<mysql.connector.connection.MySQLConnection object at 0x000002BCAEA5C6D0>\n",
      "connection succesfull\n"
     ]
    }
   ],
   "source": [
    "# 4. Write a Python program to create a table and insert some records in that table. Finally selects all rows from the table and display the records.\n",
    "print(\"name:       Jadav Vipul\")\n",
    "print(\"Enrollment: 21SOECE11031\")\n",
    "print(\"Class:      4CEA\")\n",
    "\n",
    "import mysql.connector\n",
    "connection=mysql.connector.connect(host=\"localhost\",user=\"root\",password=\"\",database=\"attandance\")\n",
    "print(connection)\n",
    "if(connection):\n",
    "    print(\"connection succesfull\")\n",
    "else:\n",
    "    print(\"connection failed\")\n",
    "\n",
    "mycursor=connection.cursor()\n",
    "# mycursor.execute(\"create table studentlist2(name varchar(20),enrollent int(20))\")\n",
    "mycursor.execute('insert into studentlist2 values(\"vipul\" ,1); ')\n",
    "for i in mycursor:\n",
    "    print(i)\n",
    "\n",
    "connection.commit()"
   ]
  },
  {
   "cell_type": "code",
   "execution_count": 13,
   "metadata": {},
   "outputs": [
    {
     "name": "stdout",
     "output_type": "stream",
     "text": [
      "name:       Jadav Vipul\n",
      "Enrollment: 21SOECE11031\n",
      "Class:      4CEA\n",
      "<mysql.connector.connection.MySQLConnection object at 0x000002BCAEF47DD0>\n",
      "connection succesfull\n"
     ]
    }
   ],
   "source": [
    "# 5. Write a Python program to insert a list of records into a given MySQL table.\n",
    "print(\"name:       Jadav Vipul\")\n",
    "print(\"Enrollment: 21SOECE11031\")\n",
    "print(\"Class:      4CEA\")\n",
    "\n",
    "import mysql.connector\n",
    "connection=mysql.connector.connect(host=\"localhost\",user=\"root\",password=\"\",database=\"attandance\")\n",
    "print(connection)\n",
    "if(connection):\n",
    "    print(\"connection succesfull\")\n",
    "else:\n",
    "    print(\"connection failed\")\n",
    "\n",
    "mycursor=connection.cursor()\n",
    "\n",
    "sql = \"INSERT INTO studentlist (name, enrollent) VALUES (%s, %s)\"\n",
    "val = [('mahesh',111),('mahesh',111),('mahesh',111),('mahesh',111)]\n",
    "mycursor.executemany(sql, val)\n",
    "connection.commit()\n"
   ]
  },
  {
   "cell_type": "code",
   "execution_count": 30,
   "metadata": {},
   "outputs": [
    {
     "name": "stdout",
     "output_type": "stream",
     "text": [
      "name:       Jadav Vipul\n",
      "Enrollment: 21SOECE11031\n",
      "Class:      4CEA\n",
      "1 record inserted.\n"
     ]
    }
   ],
   "source": [
    "# 6. Write a Python program to insert values to a table from user input.\n",
    "print(\"name:       Jadav Vipul\")\n",
    "print(\"Enrollment: 21SOECE11031\")\n",
    "print(\"Class:      4CEA\")\n",
    "\n",
    "import mysql.connector\n",
    "mydb = mysql.connector.connect(\n",
    "    host=\"localhost\",\n",
    "    user=\"root\",\n",
    "    password=\"\",\n",
    "    database=\"attandance\"\n",
    ")\n",
    "\n",
    "name = input(\"Enter name: \")\n",
    "enrolment= input(\"Enter Enrolment: \")\n",
    "\n",
    "sql = \"INSERT INTO studentlist (enrollent,name) VALUES (%s, %s)\"\n",
    "\n",
    "mycursor = mydb.cursor()\n",
    "val = (name, enrolment)\n",
    "mycursor.execute(sql, val)\n",
    "\n",
    "mydb.commit()\n",
    "\n",
    "print(mycursor.rowcount, \"record inserted.\")\n"
   ]
  },
  {
   "cell_type": "code",
   "execution_count": 14,
   "metadata": {},
   "outputs": [
    {
     "name": "stdout",
     "output_type": "stream",
     "text": [
      "name:       Jadav Vipul\n",
      "Enrollment: 21SOECE11031\n",
      "Class:      4CEA\n",
      "Number of rows: 15\n"
     ]
    }
   ],
   "source": [
    "# 7. Write a Python program to count the number of rows of a given MySQL table.\n",
    "print(\"name:       Jadav Vipul\")\n",
    "print(\"Enrollment: 21SOECE11031\")\n",
    "print(\"Class:      4CEA\")\n",
    "\n",
    "import mysql.connector\n",
    "\n",
    "mydb = mysql.connector.connect(\n",
    "    host=\"localhost\",\n",
    "    user=\"root\",\n",
    "    password=\"\",\n",
    "    database=\"attandance\"\n",
    ")\n",
    "\n",
    "sql = \"SELECT COUNT(*) FROM studentlist\"\n",
    "\n",
    "mycursor = mydb.cursor()\n",
    "mycursor.execute(sql)\n",
    "data = mycursor.fetchone()\n",
    "\n",
    "print(\"Number of rows:\", data[0])\n"
   ]
  },
  {
   "cell_type": "code",
   "execution_count": null,
   "metadata": {},
   "outputs": [],
   "source": [
    "# 8. Write a Python program to update a specific column value of a given table and select all rows before and after updating the said table.\n",
    "print(\"name:       Jadav Vipul\")\n",
    "print(\"Enrollment: 21SOECE11031\")\n",
    "print(\"Class:      4CEA\")\n",
    "\n",
    "\n",
    "import mysql.connector\n",
    "mydb = mysql.connector.connect(\n",
    "    host=\"localhost\",\n",
    "    user=\"root\",\n",
    "    password=\"\",\n",
    "    database=\"attandance\"\n",
    ")\n",
    "\n",
    "sql = \"SELECT * FROM studentlist\"\n",
    "mycursor = mydb.cursor()\n",
    "mycursor.execute(sql)\n",
    "\n",
    "data_before = mycursor.fetchall()\n",
    "sql = \"UPDATE studentlist SET name = %s WHERE id = %s\"\n",
    "mycursor = mydb.cursor()\n",
    "mycursor.execute(sql, (\"Enrollment\", 21)) \n",
    "mydb.commit()\n",
    "\n",
    "sql = \"SELECT * FROM studentlist\"\n",
    "\n",
    "mycursor = mydb.cursor()\n",
    "mycursor.execute(sql)\n",
    "data_after = mycursor.fetchall()\n",
    "\n",
    "print(\"Rows before updating:\")\n",
    "for row in data_before:\n",
    "    print(row)\n",
    "    \n",
    "print(\"\\nRows after updating:\")\n",
    "for row in data_after:\n",
    "    print(row)\n"
   ]
  },
  {
   "cell_type": "code",
   "execution_count": 23,
   "metadata": {},
   "outputs": [
    {
     "name": "stdout",
     "output_type": "stream",
     "text": [
      "name:       Jadav Vipul\n",
      "Enrollment: 21SOECE11031\n",
      "Class:      4CEA\n",
      "15 rows updated.\n"
     ]
    }
   ],
   "source": [
    "# 9. Write a Python program to update all the values of a specific column of a given MySQL table.\n",
    "print(\"name:       Jadav Vipul\")\n",
    "print(\"Enrollment: 21SOECE11031\")\n",
    "print(\"Class:      4CEA\")\n",
    "\n",
    "import mysql.connector\n",
    "\n",
    "mydb = mysql.connector.connect(\n",
    "    host=\"localhost\",\n",
    "    user=\"root\",\n",
    "    password=\"\",\n",
    "    database=\"attandance\"\n",
    ")\n",
    "\n",
    "sql = \"UPDATE studentlist SET name = %s\"\n",
    "\n",
    "mycursor = mydb.cursor()\n",
    "mycursor.execute(sql, (\"myname\",))  \n",
    "mydb.commit()\n",
    "\n",
    "print(mycursor.rowcount, \"rows updated.\")\n"
   ]
  },
  {
   "cell_type": "code",
   "execution_count": 25,
   "metadata": {},
   "outputs": [
    {
     "name": "stdout",
     "output_type": "stream",
     "text": [
      "name:       Jadav Vipul\n",
      "Enrollment: 21SOECE11031\n",
      "Class:      4CEA\n",
      "5 row deleted.\n"
     ]
    }
   ],
   "source": [
    "# 10. Write a Python program to delete a specific row from a given MySQL table.\n",
    "print(\"name:       Jadav Vipul\")\n",
    "print(\"Enrollment: 21SOECE11031\")\n",
    "print(\"Class:      4CEA\")\n",
    "\n",
    "import mysql.connector\n",
    "mydb = mysql.connector.connect(\n",
    "    host=\"localhost\",\n",
    "    user=\"root\",\n",
    "    password=\"\",\n",
    "    database=\"attandance\"\n",
    ")\n",
    "\n",
    "sql = \"DELETE FROM studentlist WHERE enrollent = %s\"\n",
    "mycursor = mydb.cursor()\n",
    "mycursor.execute(sql, (1,)) \n",
    "\n",
    "mydb.commit()\n",
    "\n",
    "print(mycursor.rowcount, \"row deleted.\")"
   ]
  },
  {
   "cell_type": "code",
   "execution_count": null,
   "metadata": {},
   "outputs": [],
   "source": [
    "# 11. Write a Python program to alter a given MySQL table.\n",
    "print(\"name:       Jadav Vipul\")\n",
    "print(\"Enrollment: 21SOECE11031\")\n",
    "print(\"Class:      4CEA\")\n",
    "\n",
    "import mysql.connector\n",
    "mydb = mysql.connector.connect(\n",
    "    host=\"localhost\",\n",
    "    user=\"root\",\n",
    "    password=\"\",\n",
    "    database=\"attandance\"\n",
    ")\n",
    "sql = \"ALTER TABLE studentlist ADD COLUMN class VARCHAR(255)\"\n",
    "mycursor = mydb.cursor()\n",
    "mycursor.execute(sql)\n",
    "print(\"Table altered.\")"
   ]
  }
 ],
 "metadata": {
  "kernelspec": {
   "display_name": "Python 3",
   "language": "python",
   "name": "python3"
  },
  "language_info": {
   "codemirror_mode": {
    "name": "ipython",
    "version": 3
   },
   "file_extension": ".py",
   "mimetype": "text/x-python",
   "name": "python",
   "nbconvert_exporter": "python",
   "pygments_lexer": "ipython3",
   "version": "3.11.2"
  },
  "orig_nbformat": 4
 },
 "nbformat": 4,
 "nbformat_minor": 2
}
